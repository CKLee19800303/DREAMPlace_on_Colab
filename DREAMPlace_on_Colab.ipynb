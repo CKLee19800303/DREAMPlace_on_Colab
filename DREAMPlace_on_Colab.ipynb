{
  "nbformat": 4,
  "nbformat_minor": 0,
  "metadata": {
    "colab": {
      "name": "DREAMPlace_on_Colab.ipynb",
      "provenance": [],
      "collapsed_sections": [],
      "toc_visible": true,
      "authorship_tag": "ABX9TyOY3Y6Ez7vWAEd8jLdi7z5M",
      "include_colab_link": true
    },
    "kernelspec": {
      "name": "python3",
      "display_name": "Python 3"
    },
    "accelerator": "GPU"
  },
  "cells": [
    {
      "cell_type": "markdown",
      "metadata": {
        "id": "view-in-github",
        "colab_type": "text"
      },
      "source": [
        "<a href=\"https://colab.research.google.com/github/CKLee19800303/DREAMPlace_on_Colab/blob/master/DREAMPlace_on_Colab.ipynb\" target=\"_parent\"><img src=\"https://colab.research.google.com/assets/colab-badge.svg\" alt=\"Open In Colab\"/></a>"
      ]
    },
    {
      "cell_type": "markdown",
      "metadata": {
        "id": "ndEHsYqbf5O8",
        "colab_type": "text"
      },
      "source": [
        "To confirm we're using GPU runtime"
      ]
    },
    {
      "cell_type": "code",
      "metadata": {
        "id": "J0Ek6gLwgD__",
        "colab_type": "code",
        "colab": {}
      },
      "source": [
        "!nvidia-smi"
      ],
      "execution_count": 0,
      "outputs": []
    },
    {
      "cell_type": "code",
      "metadata": {
        "id": "hbwROlc_DqDf",
        "colab_type": "code",
        "colab": {}
      },
      "source": [
        "import time"
      ],
      "execution_count": 0,
      "outputs": []
    },
    {
      "cell_type": "markdown",
      "metadata": {
        "id": "eYpQghc4gF0I",
        "colab_type": "text"
      },
      "source": [
        "Download Boost and CMake (It takes about 30 seconds)"
      ]
    },
    {
      "cell_type": "code",
      "metadata": {
        "id": "PkU9UMjzHEJA",
        "colab_type": "code",
        "colab": {}
      },
      "source": [
        "!wget -O boost_1_62_0.tar.gz https://sourceforge.net/projects/boost/files/boost/1.62.0/boost_1_62_0.tar.gz/download\n",
        "!wget https://github.com/Kitware/CMake/releases/download/v3.15.0-rc3/cmake-3.15.0-rc3.tar.gz\n",
        "!tar -zxf boost_1_62_0.tar.gz\n",
        "!tar -zxf cmake-3.15.0-rc3.tar.gz"
      ],
      "execution_count": 0,
      "outputs": []
    },
    {
      "cell_type": "markdown",
      "metadata": {
        "id": "03uvDeNHqkth",
        "colab_type": "text"
      },
      "source": [
        "Install Boost (This cell takes about 15 min)"
      ]
    },
    {
      "cell_type": "code",
      "metadata": {
        "id": "6H0nwCWsHOT9",
        "colab_type": "code",
        "colab": {}
      },
      "source": [
        "start_t = time.time()\n",
        "%cd boost_1_62_0\n",
        "!./bootstrap.sh\n",
        "!./b2 -j           \n",
        "!sudo ./b2 install\n",
        "end_t = time.time()\n",
        "print(\"The Cell run time is : %.03f seconds\" %(end_t-start_t))"
      ],
      "execution_count": 0,
      "outputs": []
    },
    {
      "cell_type": "markdown",
      "metadata": {
        "id": "xjKMOkqDuiaS",
        "colab_type": "text"
      },
      "source": [
        "Compile Boost (This cell takes about 10 min)"
      ]
    },
    {
      "cell_type": "code",
      "metadata": {
        "id": "pMDnlrhlH40t",
        "colab_type": "code",
        "colab": {}
      },
      "source": [
        "start_t = time.time()\n",
        "%cd ../cmake-3.15.0-rc3\n",
        "!./bootstrap\n",
        "!make -j $(nproc)\n",
        "!make install\n",
        "end_t = time.time()\n",
        "print(\"The Cell run time is : %.03f seconds\" %(end_t-start_t))"
      ],
      "execution_count": 0,
      "outputs": []
    },
    {
      "cell_type": "markdown",
      "metadata": {
        "id": "HnYjp6k-yfko",
        "colab_type": "text"
      },
      "source": [
        "Git clone DREAMPlace"
      ]
    },
    {
      "cell_type": "code",
      "metadata": {
        "id": "sr_ht-UGg4H1",
        "colab_type": "code",
        "outputId": "cac1ef28-02b8-4333-a8e2-e5ef663ae1a3",
        "colab": {
          "base_uri": "https://localhost:8080/",
          "height": 102
        }
      },
      "source": [
        "start_t = time.time()\n",
        "%cd /content/\n",
        "!git submodule init\n",
        "!git submodule update\n",
        "!git clone --recursive https://github.com/limbo018/DREAMPlace.git\n",
        "end_t = time.time()\n",
        "print(\"The Cell run time is : %.03f seconds\" %(end_t-start_t))"
      ],
      "execution_count": 55,
      "outputs": [
        {
          "output_type": "stream",
          "text": [
            "/content\n",
            "fatal: not a git repository (or any of the parent directories): .git\n",
            "fatal: not a git repository (or any of the parent directories): .git\n",
            "fatal: destination path 'DREAMPlace' already exists and is not an empty directory.\n",
            "The Cell run time is : 5.793 seconds\n"
          ],
          "name": "stdout"
        }
      ]
    },
    {
      "cell_type": "markdown",
      "metadata": {
        "id": "Zvi7ydP2yrYw",
        "colab_type": "text"
      },
      "source": [
        "Check gcc version"
      ]
    },
    {
      "cell_type": "code",
      "metadata": {
        "id": "9KUpcBpExj74",
        "colab_type": "code",
        "outputId": "238da494-1851-4cd7-947d-c568cc102723",
        "colab": {
          "base_uri": "https://localhost:8080/",
          "height": 102
        }
      },
      "source": [
        "!gcc --version"
      ],
      "execution_count": 56,
      "outputs": [
        {
          "output_type": "stream",
          "text": [
            "gcc (Ubuntu 7.4.0-1ubuntu1~18.04.1) 7.4.0\n",
            "Copyright (C) 2017 Free Software Foundation, Inc.\n",
            "This is free software; see the source for copying conditions.  There is NO\n",
            "warranty; not even for MERCHANTABILITY or FITNESS FOR A PARTICULAR PURPOSE.\n",
            "\n"
          ],
          "name": "stdout"
        }
      ]
    },
    {
      "cell_type": "markdown",
      "metadata": {
        "id": "BbS96pIZyv7s",
        "colab_type": "text"
      },
      "source": [
        "Install some other packages"
      ]
    },
    {
      "cell_type": "code",
      "metadata": {
        "id": "FgUPdk8LhGgq",
        "colab_type": "code",
        "colab": {}
      },
      "source": [
        "start_t = time.time()\n",
        "!apt-get update\n",
        "!apt-get install bison\n",
        "!apt-get install flex\n",
        "!apt-get install doxygen\n",
        "!apt-get install lpsolve\n",
        "!apt-get install liblpsolve55-dev\n",
        "!apt-get install ghostscript\n",
        "!apt-get install texlive-bibtex-extra biber\n",
        "!apt-get install libcairo2-dev\n",
        "end_t = time.time()\n",
        "print(\"The Cell run time is : %.03f seconds\" %(end_t-start_t))"
      ],
      "execution_count": 0,
      "outputs": []
    },
    {
      "cell_type": "markdown",
      "metadata": {
        "id": "5lK8PK9DzF6q",
        "colab_type": "text"
      },
      "source": [
        "PIP Install DREAMPlace requirements "
      ]
    },
    {
      "cell_type": "code",
      "metadata": {
        "id": "VPVC2lJKOa8O",
        "colab_type": "code",
        "outputId": "fc9c956b-5340-4421-f0cc-3250e710687c",
        "colab": {
          "base_uri": "https://localhost:8080/",
          "height": 340
        }
      },
      "source": [
        "start_t = time.time()\n",
        "%cd /content/DREAMPlace/\n",
        "!pip install -r requirements.txt \n",
        "end_t = time.time()\n",
        "print(\"The Cell run time is : %.03f seconds\" %(end_t-start_t))"
      ],
      "execution_count": 58,
      "outputs": [
        {
          "output_type": "stream",
          "text": [
            "/content/DREAMPlace\n",
            "Requirement already satisfied: pyunpack>=0.1.2 in /usr/local/lib/python3.6/dist-packages (from -r requirements.txt (line 1)) (0.1.2)\n",
            "Requirement already satisfied: patool>=1.12 in /usr/local/lib/python3.6/dist-packages (from -r requirements.txt (line 2)) (1.12)\n",
            "Requirement already satisfied: matplotlib>=2.2.2 in /usr/local/lib/python3.6/dist-packages (from -r requirements.txt (line 3)) (3.1.3)\n",
            "Requirement already satisfied: cairocffi>=0.9.0 in /usr/local/lib/python3.6/dist-packages (from -r requirements.txt (line 4)) (1.1.0)\n",
            "Requirement already satisfied: pkgconfig>=1.4.0 in /usr/local/lib/python3.6/dist-packages (from -r requirements.txt (line 5)) (1.5.1)\n",
            "Requirement already satisfied: setuptools>=39.1.0 in /usr/local/lib/python3.6/dist-packages (from -r requirements.txt (line 6)) (45.1.0)\n",
            "Requirement already satisfied: scipy>=1.1.0 in /usr/local/lib/python3.6/dist-packages (from -r requirements.txt (line 7)) (1.4.1)\n",
            "Requirement already satisfied: numpy>=1.15.4 in /usr/local/lib/python3.6/dist-packages (from -r requirements.txt (line 8)) (1.17.5)\n",
            "Requirement already satisfied: torch>=1.0.0 in /usr/local/lib/python3.6/dist-packages (from -r requirements.txt (line 9)) (1.4.0)\n",
            "Requirement already satisfied: easyprocess in /usr/local/lib/python3.6/dist-packages (from pyunpack>=0.1.2->-r requirements.txt (line 1)) (0.2.10)\n",
            "Requirement already satisfied: pyparsing!=2.0.4,!=2.1.2,!=2.1.6,>=2.0.1 in /usr/local/lib/python3.6/dist-packages (from matplotlib>=2.2.2->-r requirements.txt (line 3)) (2.4.6)\n",
            "Requirement already satisfied: kiwisolver>=1.0.1 in /usr/local/lib/python3.6/dist-packages (from matplotlib>=2.2.2->-r requirements.txt (line 3)) (1.1.0)\n",
            "Requirement already satisfied: cycler>=0.10 in /usr/local/lib/python3.6/dist-packages (from matplotlib>=2.2.2->-r requirements.txt (line 3)) (0.10.0)\n",
            "Requirement already satisfied: python-dateutil>=2.1 in /usr/local/lib/python3.6/dist-packages (from matplotlib>=2.2.2->-r requirements.txt (line 3)) (2.6.1)\n",
            "Requirement already satisfied: cffi>=1.1.0 in /usr/local/lib/python3.6/dist-packages (from cairocffi>=0.9.0->-r requirements.txt (line 4)) (1.13.2)\n",
            "Requirement already satisfied: six in /usr/local/lib/python3.6/dist-packages (from cycler>=0.10->matplotlib>=2.2.2->-r requirements.txt (line 3)) (1.12.0)\n",
            "Requirement already satisfied: pycparser in /usr/local/lib/python3.6/dist-packages (from cffi>=1.1.0->cairocffi>=0.9.0->-r requirements.txt (line 4)) (2.19)\n",
            "The Cell run time is : 3.392 seconds\n"
          ],
          "name": "stdout"
        }
      ]
    },
    {
      "cell_type": "markdown",
      "metadata": {
        "id": "lnlotduJziVN",
        "colab_type": "text"
      },
      "source": [
        "Compile some other files (This takes about 30 min)"
      ]
    },
    {
      "cell_type": "code",
      "metadata": {
        "id": "Yq9B4fImhTSb",
        "colab_type": "code",
        "colab": {}
      },
      "source": [
        "start_t = time.time()\n",
        "\n",
        "%cd /content/DREAMPlace/\n",
        "!mkdir build \n",
        "%cd build \n",
        "!cmake .. -DCMAKE_INSTALL_PREFIX=/content/DREAMPlace/\n",
        "!make \n",
        "!make install\n",
        "\n",
        "end_t = time.time()\n",
        "print(\"The Cell run time is : %.03f seconds\" %(end_t-start_t))"
      ],
      "execution_count": 0,
      "outputs": []
    },
    {
      "cell_type": "markdown",
      "metadata": {
        "id": "BO6TXESL-Fdm",
        "colab_type": "text"
      },
      "source": [
        "Remove temp files in build folder"
      ]
    },
    {
      "cell_type": "code",
      "metadata": {
        "id": "1LfWkSQUOif5",
        "colab_type": "code",
        "outputId": "ae28d5d9-a715-4dc7-a791-fd87d1611e6d",
        "colab": {
          "base_uri": "https://localhost:8080/",
          "height": 34
        }
      },
      "source": [
        "%cd /content/DREAMPlace/\n",
        "!rm -rf build/"
      ],
      "execution_count": 62,
      "outputs": [
        {
          "output_type": "stream",
          "text": [
            "/content/DREAMPlace\n"
          ],
          "name": "stdout"
        }
      ]
    },
    {
      "cell_type": "markdown",
      "metadata": {
        "id": "O2lTFOH7frEF",
        "colab_type": "text"
      },
      "source": [
        "Download ispd 2005 & 2015 dataset"
      ]
    },
    {
      "cell_type": "code",
      "metadata": {
        "id": "c1YukVgtphyl",
        "colab_type": "code",
        "outputId": "969563ef-0c9d-440d-d9ac-ef5390922029",
        "colab": {
          "base_uri": "https://localhost:8080/",
          "height": 170
        }
      },
      "source": [
        "start_t = time.time()\n",
        "\n",
        "!python /content/DREAMPlace/benchmarks/ispd2005_2015.py\n",
        "\n",
        "end_t = time.time()\n",
        "print(\"The Cell run time is : %.03f seconds\" %(end_t-start_t))"
      ],
      "execution_count": 63,
      "outputs": [
        {
          "output_type": "stream",
          "text": [
            "Download from http://www.cerc.utexas.edu/~zixuan/ispd2005.tar.xz to /content/DREAMPlace/benchmarks/ispd2005.tar.xz\n",
            "Uncompress /content/DREAMPlace/benchmarks/ispd2005.tar.xz to /content/DREAMPlace/benchmarks\n",
            "remove downloaded file /content/DREAMPlace/benchmarks/ispd2005.tar.xz\n",
            "Download from http://www.cerc.utexas.edu/~zixuan/ispd2005dp.tar.xz to /content/DREAMPlace/benchmarks/ispd2005dp.tar.xz\n",
            "Uncompress /content/DREAMPlace/benchmarks/ispd2005dp.tar.xz to /content/DREAMPlace/benchmarks\n",
            "remove downloaded file /content/DREAMPlace/benchmarks/ispd2005dp.tar.xz\n",
            "Download from http://www.cerc.utexas.edu/~zixuan/ispd2015dp.tar.xz to /content/DREAMPlace/benchmarks/ispd2015dp.tar.xz\n",
            "Uncompress /content/DREAMPlace/benchmarks/ispd2015dp.tar.xz to /content/DREAMPlace/benchmarks\n",
            "remove downloaded file /content/DREAMPlace/benchmarks/ispd2015dp.tar.xz\n"
          ],
          "name": "stdout"
        }
      ]
    },
    {
      "cell_type": "markdown",
      "metadata": {
        "id": "TOfE_nqY-zdS",
        "colab_type": "text"
      },
      "source": [
        "Run Placer"
      ]
    },
    {
      "cell_type": "code",
      "metadata": {
        "id": "JfPnvu3mW9Sq",
        "colab_type": "code",
        "colab": {}
      },
      "source": [
        "%cd /content/DREAMPlace/\n",
        "!python /content/DREAMPlace/dreamplace/Placer.py /content/DREAMPlace/test/ispd2005/adaptec1.json"
      ],
      "execution_count": 0,
      "outputs": []
    },
    {
      "cell_type": "markdown",
      "metadata": {
        "id": "d-iiRLhM_GUk",
        "colab_type": "text"
      },
      "source": [
        "**I found the error message of** \n",
        "NameError: name 'weighted_average_wirelength_cuda_merged' is not defined\n",
        "\n",
        "**It's due to**\n",
        "ImportError on \"weighted_average_wirelength_cuda_sparse\"\n",
        "\n",
        "\n",
        "**This error lets the file** weighted_average_wirelength.py **ignore** import\n",
        "dreamplace.ops.weighted_average_wirelength.weighted_average_wirelength_cuda_*merged*\n",
        "\n",
        "**Hence I modify the** weighted_average_wirelength.py **from**\n",
        "![image.png](data:image/png;base64,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)\n",
        "\n",
        "\n",
        "**as**\n",
        "![image.png](data:image/png;base64,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)"
      ]
    },
    {
      "cell_type": "markdown",
      "metadata": {
        "id": "W_Ubk8RrDXCf",
        "colab_type": "text"
      },
      "source": [
        "Debug Part"
      ]
    },
    {
      "cell_type": "code",
      "metadata": {
        "id": "AcvQf3eLKCIK",
        "colab_type": "code",
        "outputId": "f53ac90b-5fb5-4a6e-917e-602af98a963a",
        "colab": {
          "base_uri": "https://localhost:8080/",
          "height": 350
        }
      },
      "source": [
        "import torch\n",
        "import dreamplace.ops.weighted_average_wirelength.weighted_average_wirelength_cpp as weighted_average_wirelength_cpp    \n",
        "import dreamplace.ops.weighted_average_wirelength.weighted_average_wirelength_cuda as weighted_average_wirelength_cuda\n",
        "import dreamplace.ops.weighted_average_wirelength.weighted_average_wirelength_cuda_atomic as weighted_average_wirelength_cuda_atomic\n",
        "import dreamplace.ops.weighted_average_wirelength.weighted_average_wirelength_cuda_sparse as weighted_average_wirelength_cuda_sparse\n",
        "import dreamplace.ops.weighted_average_wirelength.weighted_average_wirelength_cuda_merged as weighted_average_wirelength_cuda_merged"
      ],
      "execution_count": 68,
      "outputs": [
        {
          "output_type": "error",
          "ename": "ImportError",
          "evalue": "ignored",
          "traceback": [
            "\u001b[0;31m---------------------------------------------------------------------------\u001b[0m",
            "\u001b[0;31mImportError\u001b[0m                               Traceback (most recent call last)",
            "\u001b[0;32m<ipython-input-68-37f608bd4941>\u001b[0m in \u001b[0;36m<module>\u001b[0;34m()\u001b[0m\n\u001b[1;32m      3\u001b[0m \u001b[0;32mimport\u001b[0m \u001b[0mdreamplace\u001b[0m\u001b[0;34m.\u001b[0m\u001b[0mops\u001b[0m\u001b[0;34m.\u001b[0m\u001b[0mweighted_average_wirelength\u001b[0m\u001b[0;34m.\u001b[0m\u001b[0mweighted_average_wirelength_cuda\u001b[0m \u001b[0;32mas\u001b[0m \u001b[0mweighted_average_wirelength_cuda\u001b[0m\u001b[0;34m\u001b[0m\u001b[0;34m\u001b[0m\u001b[0m\n\u001b[1;32m      4\u001b[0m \u001b[0;32mimport\u001b[0m \u001b[0mdreamplace\u001b[0m\u001b[0;34m.\u001b[0m\u001b[0mops\u001b[0m\u001b[0;34m.\u001b[0m\u001b[0mweighted_average_wirelength\u001b[0m\u001b[0;34m.\u001b[0m\u001b[0mweighted_average_wirelength_cuda_atomic\u001b[0m \u001b[0;32mas\u001b[0m \u001b[0mweighted_average_wirelength_cuda_atomic\u001b[0m\u001b[0;34m\u001b[0m\u001b[0;34m\u001b[0m\u001b[0m\n\u001b[0;32m----> 5\u001b[0;31m \u001b[0;32mimport\u001b[0m \u001b[0mdreamplace\u001b[0m\u001b[0;34m.\u001b[0m\u001b[0mops\u001b[0m\u001b[0;34m.\u001b[0m\u001b[0mweighted_average_wirelength\u001b[0m\u001b[0;34m.\u001b[0m\u001b[0mweighted_average_wirelength_cuda_sparse\u001b[0m \u001b[0;32mas\u001b[0m \u001b[0mweighted_average_wirelength_cuda_sparse\u001b[0m\u001b[0;34m\u001b[0m\u001b[0;34m\u001b[0m\u001b[0m\n\u001b[0m\u001b[1;32m      6\u001b[0m \u001b[0;32mimport\u001b[0m \u001b[0mdreamplace\u001b[0m\u001b[0;34m.\u001b[0m\u001b[0mops\u001b[0m\u001b[0;34m.\u001b[0m\u001b[0mweighted_average_wirelength\u001b[0m\u001b[0;34m.\u001b[0m\u001b[0mweighted_average_wirelength_cuda_merged\u001b[0m \u001b[0;32mas\u001b[0m \u001b[0mweighted_average_wirelength_cuda_merged\u001b[0m\u001b[0;34m\u001b[0m\u001b[0;34m\u001b[0m\u001b[0m\n",
            "\u001b[0;31mImportError\u001b[0m: /content/DREAMPlace/dreamplace/ops/weighted_average_wirelength/weighted_average_wirelength_cuda_sparse.cpython-36m-x86_64-linux-gnu.so: undefined symbol: cusparseDcsrmv",
            "",
            "\u001b[0;31m---------------------------------------------------------------------------\u001b[0;32m\nNOTE: If your import is failing due to a missing package, you can\nmanually install dependencies using either !pip or !apt.\n\nTo view examples of installing some common dependencies, click the\n\"Open Examples\" button below.\n\u001b[0;31m---------------------------------------------------------------------------\u001b[0m\n"
          ]
        }
      ]
    },
    {
      "cell_type": "code",
      "metadata": {
        "id": "waqOlf6NNSMP",
        "colab_type": "code",
        "colab": {}
      },
      "source": [
        ""
      ],
      "execution_count": 0,
      "outputs": []
    }
  ]
}